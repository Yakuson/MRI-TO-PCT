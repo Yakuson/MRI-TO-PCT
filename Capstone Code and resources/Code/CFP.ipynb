{
 "cells": [
  {
   "cell_type": "code",
   "execution_count": 2,
   "id": "58bf8d51",
   "metadata": {},
   "outputs": [],
   "source": [
    "# Import libraries and standardize path\n",
    "import os\n",
    "from pathlib import Path\n",
    "import cv2\n",
    "import numpy as np\n",
    "from tkinter.filedialog import askopenfilename"
   ]
  },
  {
   "cell_type": "code",
   "execution_count": null,
   "id": "d6f40862",
   "metadata": {},
   "outputs": [],
   "source": [
    "# Section for inverse log scaling\n",
    "image_path = askopenfilename()\n",
    "image = cv2.imread(image_path, cv2.IMREAD_GRAYSCALE)\n",
    "image_float = np.float32(image)\n",
    "\n",
    "log_image = np.log(image_float + 1) # Avoids log(0)\n",
    "log_image = np.uint8(255 * log_image / np.max(log_image))\n",
    "\n",
    "inverse_log_image = 255 - log_image  \n",
    "cv2.imwrite('inverse_log_scaled_image.png', inverse_log_image)"
   ]
  },
  {
   "cell_type": "code",
   "execution_count": null,
   "id": "96b5e297",
   "metadata": {},
   "outputs": [],
   "source": [
    "# TODO: Section for Histogram and Thresholding"
   ]
  },
  {
   "cell_type": "code",
   "execution_count": null,
   "id": "bb0dc8a1",
   "metadata": {},
   "outputs": [],
   "source": [
    "# TODO: Section for Segmentation based on Previous Thresholds"
   ]
  }
 ],
 "metadata": {
  "kernelspec": {
   "display_name": "Python 3",
   "language": "python",
   "name": "python3"
  },
  "language_info": {
   "codemirror_mode": {
    "name": "ipython",
    "version": 3
   },
   "file_extension": ".py",
   "mimetype": "text/x-python",
   "name": "python",
   "nbconvert_exporter": "python",
   "pygments_lexer": "ipython3",
   "version": "3.11.9"
  },
  "polyglot_notebook": {
   "kernelInfo": {
    "defaultKernelName": "csharp",
    "items": [
     {
      "aliases": [],
      "name": "csharp"
     }
    ]
   }
  }
 },
 "nbformat": 4,
 "nbformat_minor": 5
}

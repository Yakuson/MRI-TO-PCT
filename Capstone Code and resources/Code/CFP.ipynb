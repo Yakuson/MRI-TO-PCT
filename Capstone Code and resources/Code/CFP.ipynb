{
 "cells": [
  {
   "cell_type": "code",
   "execution_count": null,
   "id": "58bf8d51",
   "metadata": {},
   "outputs": [],
   "source": [
    "# Import libraries and standardize path\n",
    "import os\n",
    "from pathlib import Path\n",
    "import numpy as np\n",
    "import cv2\n",
    "from tkinter.filedialog import askopenfilename\n",
    "import SimpleITK as sitk\n",
    "import nibabel as nib\n",
    "import cv2\n",
    "import numpy as np\n",
    "import SimpleITK as sitk\n",
    "import matplotlib.pyplot as plt\n",
    "from scipy.ndimage import gaussian_filter\n",
    "from scipy.signal import find_peaks\n",
    "from skimage.metrics import structural_similarity as ssim\n",
    "from scipy.ndimage import zoom"
   ]
  },
  {
   "cell_type": "code",
   "execution_count": 4,
   "id": "a613a60d",
   "metadata": {},
   "outputs": [
    {
     "name": "stdout",
     "output_type": "stream",
     "text": [
      "Current working directory: d:\\Users\\Jacks\\Desktop\\Jackson's Homework\\Year 4\\BMEG 457\\MRI-TO-PCT\\Capstone Code and resources\\Code\n"
     ]
    }
   ],
   "source": [
    "current_directory = os.getcwd()\n",
    "print(f\"Current working directory: {current_directory}\")\n",
    "# Change directory as needed\n",
    "os.chdir(\"/Users/Jacks/Desktop/Jackson's Homework/Year 4/BMEG 457/MRI-TO-PCT/Capstone Code and resources\")"
   ]
  },
  {
   "cell_type": "code",
   "execution_count": null,
   "id": "d6f40862",
   "metadata": {},
   "outputs": [
    {
     "data": {
      "text/plain": [
       "True"
      ]
     },
     "execution_count": 5,
     "metadata": {},
     "output_type": "execute_result"
    }
   ],
   "source": [
    "# Section for inverse log scaling + bias correction\n",
    "image_path = \"/Users/Jacks/Desktop/Jackson's Homework/Year 4/BMEG 457/MRI-TO-PCT/Capstone Code and resources/Images/chicken screenshot.png\" # Change as needed\n",
    "\n",
    "image = cv2.imread(image_path, cv2.IMREAD_GRAYSCALE)\n",
    "if image is None:\n",
    "    raise FileNotFoundError(f\"Image at path '{image_path}' could not be loaded. Check the file path.\")\n",
    "\n",
    "# Convert to SimpleITK image format and cast to float\n",
    "image_sitk = sitk.GetImageFromArray(image)\n",
    "image_sitk = sitk.Cast(image_sitk, sitk.sitkFloat32)\n",
    "\n",
    "# Bias Field Correction (N4ITK)\n",
    "corrector = sitk.N4BiasFieldCorrectionImageFilter()\n",
    "\n",
    "# play around with hyperparameters--------------------------------------------------------\n",
    "# Degree of the B-spline used for bias correction (smoothness)\n",
    "corrector.SetSplineOrder(2)  # 2 looks the best\n",
    "# Determines when the correction stops\n",
    "corrector.SetConvergenceThreshold(10 ** -3)  # 10^-3 or smaller is best\n",
    "# Impacts the histogram size for intensity mapping\n",
    "corrector.SetNumberOfHistogramBins(50) # best is i = 50\n",
    "# Controls the number of iterations at each resolution level\n",
    "corrector.SetMaximumNumberOfIterations([50, 50, 50, 50])  # best is standard -> i = 50\n",
    "#-----------------------------------------------------------------------------------------\n",
    "\n",
    "# Execute bias correction\n",
    "corrected_image_sitk = corrector.Execute(image_sitk)\n",
    "\n",
    "# Convert corrected image to NumPy array\n",
    "corrected_image = sitk.GetArrayFromImage(corrected_image_sitk)\n",
    "\n",
    "# Normalize corrected image back to [0, 1] range\n",
    "corrected_image = corrected_image / np.max(corrected_image)\n",
    "\n",
    "# Scale to [0, 255] for saving as an image\n",
    "corrected_image_uint8 = np.uint8(255 * corrected_image)\n",
    "\n",
    "# Save corrected image\n",
    "\n",
    "log_image = np.log(corrected_image + 1)  # Avoid log(0)\n",
    "log_image = np.uint8(255 * log_image)\n",
    "inverse_log_image = 255 - log_image  \n",
    "\n",
    "\n",
    "inv_norm = inverse_log_image / 255.0\n",
    "\n",
    "hist, bins = np.histogram(inv_norm.ravel(), bins=256, range=(0, 1))\n",
    "\n",
    "#Change height to identify peaks \n",
    "peaks, _ = find_peaks(hist, height=7100)\n",
    "\n",
    "# Threshold values\n",
    "thresholds = bins[peaks]\n",
    "\n",
    "plt.hist(inv_norm.ravel(), bins=256, range=(0, 1), color='black', alpha=0.7)\n",
    "plt.scatter(thresholds, hist[peaks], color='red', zorder=5)\n",
    "plt.title('Histogram of Inverse Log-Scaled Image with Peaks')\n",
    "plt.xlabel('Normalized Pixel Intensity')\n",
    "plt.ylabel('Frequency')\n",
    "plt.show()\n",
    "\n",
    "print('Thresholds for Peaks:', thresholds)\n",
    "\n",
    "# ----------------\n",
    "\n",
    "# image_sitk = sitk.GetImageFromArray(image)\n",
    "# image_sitk = sitk.Cast(image_sitk, sitk.sitkFloat32) # Need to cast to float to avoid uint8 errors\n",
    "\n",
    "# # Bias Field Correction (N4ITK)\n",
    "# corrector = sitk.N4BiasFieldCorrectionImageFilter()\n",
    "# corrected_image_sitk = corrector.Execute(image_sitk)\n",
    "\n",
    "# corrected_image = sitk.GetArrayFromImage(corrected_image_sitk)\n",
    "# corrected_image = corrected_image / np.max(corrected_image) # Normalization from [0 - 1]\n",
    "\n",
    "# log_image = np.log(corrected_image + 1) # Avoids log(0)\n",
    "# log_image = np.uint8(255 * log_image)\n",
    "\n",
    "# inverse_log_image = 255 - log_image  \n",
    "# cv2.imwrite('/Users/yuhengzhang/Documents/BMEG 457/MRI-TO-PCT/Capstone Code and resources/Images/Yuheng_inverse_log_scaled_image.png', inverse_log_image)"
   ]
  },
  {
   "cell_type": "code",
   "execution_count": 3,
   "id": "bb0dc8a1",
   "metadata": {},
   "outputs": [
    {
     "data": {
      "image/png": "[encoded data removed]",
      "text/plain": [
       "<Figure size 800x600 with 1 Axes>"
      ]
     },
     "metadata": {},
     "output_type": "display_data"
    },
    {
     "name": "stdout",
     "output_type": "stream",
     "text": [
      "Thresholds for Peaks: [0.5625     0.94921875]\n"
     ]
    }
   ],
   "source": [
    "import cv2\n",
    "import numpy as np\n",
    "import SimpleITK as sitk\n",
    "import matplotlib.pyplot as plt\n",
    "from scipy.ndimage import gaussian_filter\n",
    "from scipy.signal import find_peaks\n",
    "from skimage import exposure\n",
    "\n",
    "# Histogram Based bias correction applied to N4ITK approach\n",
    "\n",
    "image_path = r\"C:\\Users\\manan\\Desktop\\Capstone\\MRI-TO-PCT\\Capstone Code and resources\\Images\\chicken screenshot.png\"\n",
    "image = cv2.imread(image_path, cv2.IMREAD_GRAYSCALE)\n",
    "if image is None:\n",
    "    raise FileNotFoundError(f\"Image at path '{image_path}' could not be loaded. Check the file path.\")\n",
    "\n",
    "# Convert image to SimpleITK and float format\n",
    "image_sitk = sitk.GetImageFromArray(image)\n",
    "image_sitk = sitk.Cast(image_sitk, sitk.sitkFloat32)\n",
    "\n",
    "corrector = sitk.N4BiasFieldCorrectionImageFilter()\n",
    "corrector.SetSplineOrder(2)\n",
    "corrector.SetConvergenceThreshold(1e-4)\n",
    "corrector.SetNumberOfHistogramBins(100)\n",
    "corrector.SetMaximumNumberOfIterations([100, 100, 100, 100])\n",
    "\n",
    "corrected_image_sitk = corrector.Execute(image_sitk)\n",
    "corrected_image = sitk.GetArrayFromImage(corrected_image_sitk)\n",
    "\n",
    "# Normalize corrected image to [0,1]\n",
    "corrected_image = corrected_image / (np.max(corrected_image) + 1e-8)\n",
    "\n",
    "log_image = np.log1p(corrected_image)  \n",
    "inverse_log_image = 1.0 - log_image  \n",
    "inverse_log_image /= np.max(inverse_log_image)  \n",
    "\n",
    "def histogram_bias_correction(image, num_bins=256, min_counts=50, smoothing_sigma=5, levels=[1, 2, 4, 8]):\n",
    "    corrected = np.copy(image).astype(np.float32)\n",
    "    bias_field = np.ones_like(image, dtype=np.float32)\n",
    "\n",
    "    for level in levels:\n",
    "        downsampled_image = cv2.resize(corrected, (corrected.shape[1] // level, corrected.shape[0] // level), interpolation=cv2.INTER_LINEAR)\n",
    "\n",
    "        hist, bin_edges = np.histogram(downsampled_image, bins=num_bins)\n",
    "        max_count_idx = np.argmax(hist)  # Peak index\n",
    "        if hist[max_count_idx] > min_counts:\n",
    "            peak_intensity = bin_edges[max_count_idx]\n",
    "\n",
    "            bias_field[:downsampled_image.shape[0], :downsampled_image.shape[1]] = peak_intensity\n",
    "\n",
    "        # Apply Low-Pass Filtering \n",
    "        bias_field = gaussian_filter(bias_field, sigma=smoothing_sigma)\n",
    "\n",
    "        \n",
    "        corrected = corrected / (bias_field + 1e-8)  # Normalize\n",
    "        corrected /= np.max(corrected)  # Scale to [0,1]\n",
    "\n",
    "    return corrected\n",
    "\n",
    "# Apply Histogram-Based Bias Correction \n",
    "final_corrected_image = histogram_bias_correction(inverse_log_image)\n",
    "\n",
    "inv_norm = final_corrected_image  \n",
    "\n",
    "# Compute histogram\n",
    "hist, bins = np.histogram(inv_norm.ravel(), bins=256, range=(0, 1))\n",
    "\n",
    "peak_threshold = max(1000, np.percentile(hist, 98))\n",
    "peaks, _ = find_peaks(hist, height=peak_threshold)\n",
    "\n",
    "thresholds = bins[peaks]\n",
    "\n",
    "plt.figure(figsize=(8, 6))\n",
    "plt.hist(inv_norm.ravel(), bins=256, range=(0, 1), color='black', alpha=0.7)\n",
    "plt.scatter(thresholds, hist[peaks], color='red', zorder=5)\n",
    "plt.title('Histogram of Enhanced Image with Peaks')\n",
    "plt.xlabel('Normalized Pixel Intensity')\n",
    "plt.ylabel('Frequency')\n",
    "plt.show()\n",
    "\n",
    "print('Thresholds for Peaks:', thresholds)\n"
   ]
  },
  {
   "cell_type": "code",
   "execution_count": null,
   "id": "afa53e3f",
   "metadata": {},
   "outputs": [],
   "source": [
    "# Section for Segmentation based on Previous Thresholds\n",
    "segmented_image = inverse_log_image\n",
    "\n",
    "# Manually choose thresholds based on above histogram bins and inverse log scaled image\n",
    "threshold1 = 0.58 # or threshold[0] + 0.02, threshold[1], etc.\n",
    "threshold2 = 0.86\n",
    "\n",
    "# Segment the image based on thresholds (masking from literature)\n",
    "# NOTE: Masks may need to be switched around based on the DICOM pictures (i.e if bone is darker and background is lighter)\n",
    "soft_tissue_mask = (inv_norm < threshold1) \n",
    "bone_mask = (inv_norm >= threshold1) & (inv_norm < threshold2)  \n",
    "air_mask = (inv_norm >= threshold2) \n",
    "\n",
    "# Assign greyscale values for segment display\n",
    "segmented_image[air_mask] = 0  \n",
    "segmented_image[soft_tissue_mask] = 100\n",
    "segmented_image[bone_mask] = 255\n",
    "\n",
    "# Save and display\n",
    "cv2.imwrite('Images/CFP_segmented_image.png', segmented_image)\n",
    "plt.imshow(segmented_image, cmap='gray')\n",
    "plt.axis('off')\n",
    "plt.show()"
   ]
  },
  {
   "cell_type": "code",
   "execution_count": null,
   "id": "cb94fa52",
   "metadata": {},
   "outputs": [],
   "source": [
    "# Future Section for Registration\n",
    "import matplotlib.pyplot as plt\n",
    "\n",
    "next_image_path = 'Images/CFP_segmented_image.png' # Change as needed\n",
    "\n",
    "reference_image = sitk.ReadImage('Images/CFP_segmented_image.png')  # Reference image (PCT)\n",
    "next_image = sitk.ReadImage(next_image_path)\n",
    "\n",
    "reference_image = sitk.Cast(reference_image, sitk.sitkFloat32)\n",
    "next_image_path = sitk.Cast(next_image, sitk.sitkFloat32)\n",
    "\n",
    "# Initialize B-Spline transform (Non-Rigid)\n",
    "grid_size = [4, 4, 4]  # Number of control points per dimension\n",
    "bspline_transform = sitk.BSplineTransformInitializer(reference_image, grid_size)\n",
    "\n",
    "registration = sitk.ImageRegistrationMethod()\n",
    "registration.SetMetricAsMattesMutualInformation(numberOfHistogramBins=50)\n",
    "registration.SetOptimizerAsGradientDescent(\n",
    "    learningRate=1.0, numberOfIterations=300, convergenceMinimumValue=1e-6, convergenceWindowSize=10\n",
    ")\n",
    "registration.SetShrinkFactorsPerLevel([2, 1])\n",
    "registration.SetSmoothingSigmasPerLevel([1, 0])\n",
    "registration.SmoothingSigmasAreSpecifiedInPhysicalUnitsOn()\n",
    "\n",
    "# Interpolator(for smooth deformations)\n",
    "registration.SetInterpolator(sitk.sitkLinear)\n",
    "registration.SetInitialTransform(bspline_transform, inPlace=True)\n",
    "\n",
    "final_transform = registration.Execute(reference_image, next_image)\n",
    "\n",
    "# Apply transformation\n",
    "registered_image = sitk.Resample(next_image, reference_image, final_transform, sitk.sitkLinear, 0.0, next_image.GetPixelID())\n",
    "\n",
    "sitk.WriteImage(registered_image, 'Images/TEST_REGISTERED_IMAGE.png')"
   ]
  },
  {
   "cell_type": "code",
   "execution_count": null,
   "id": "2be13c43",
   "metadata": {},
   "outputs": [],
   "source": [
    "# Verification and Validation\n",
    "\n"
   ]
  }
 ],
 "metadata": {
  "kernelspec": {
   "display_name": "Python 3",
   "language": "python",
   "name": "python3"
  },
  "language_info": {
   "codemirror_mode": {
    "name": "ipython",
    "version": 3
   },
   "file_extension": ".py",
   "mimetype": "text/x-python",
   "name": "python",
   "nbconvert_exporter": "python",
   "pygments_lexer": "ipython3",
   "version": "3.11.9"
  },
  "polyglot_notebook": {
   "kernelInfo": {
    "defaultKernelName": "csharp",
    "items": [
     {
      "aliases": [],
      "name": "csharp"
     }
    ]
   }
  }
 },
 "nbformat": 4,
 "nbformat_minor": 5
}
